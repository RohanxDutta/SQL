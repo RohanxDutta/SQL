{
  "nbformat": 4,
  "nbformat_minor": 0,
  "metadata": {
    "colab": {
      "provenance": [],
      "authorship_tag": "ABX9TyNLsoCGGNJrFHi1QPamutVx",
      "include_colab_link": true
    },
    "kernelspec": {
      "name": "python3",
      "display_name": "Python 3"
    },
    "language_info": {
      "name": "python"
    }
  },
  "cells": [
    {
      "cell_type": "markdown",
      "metadata": {
        "id": "view-in-github",
        "colab_type": "text"
      },
      "source": [
        "<a href=\"https://colab.research.google.com/github/RohanxDutta/SQL/blob/main/InstaDB.ipynb\" target=\"_parent\"><img src=\"https://colab.research.google.com/assets/colab-badge.svg\" alt=\"Open In Colab\"/></a>"
      ]
    },
    {
      "cell_type": "markdown",
      "source": [
        "<img src=\"https://sssinstagram.com/images/download-online.png\" alt=\"Download instagram videos and photos online\">\n",
        "\n",
        "\n"
      ],
      "metadata": {
        "id": "1Jmsa2twuMUb"
      }
    },
    {
      "cell_type": "markdown",
      "source": [
        "# **Project Name** - Instagram Product Dissection"
      ],
      "metadata": {
        "id": "sPGeoZKrw7OX"
      }
    },
    {
      "cell_type": "markdown",
      "source": [
        "# Contribution - Team\n",
        "# Name - Rohan Dutta\n",
        "# Name - Pranita Karmakar"
      ],
      "metadata": {
        "id": "KAflg_vCxekI"
      }
    },
    {
      "cell_type": "markdown",
      "source": [
        "# GitHub Link :"
      ],
      "metadata": {
        "id": "d7bFaW1myA4n"
      }
    },
    {
      "cell_type": "markdown",
      "source": [
        "# Project Summary"
      ],
      "metadata": {
        "id": "zHtvnTQaybs0"
      }
    },
    {
      "cell_type": "markdown",
      "source": [],
      "metadata": {
        "id": "JNwvA1z5y6Sr"
      }
    },
    {
      "cell_type": "markdown",
      "source": [
        "# Project Link"
      ],
      "metadata": {
        "id": "BuOeS0uIy7LN"
      }
    },
    {
      "cell_type": "markdown",
      "source": [
        "https://1drv.ms/u/s!AgSu7NIi_Vk9gaZIM4SQ-3lTuiACGA?e=Hbdnn8"
      ],
      "metadata": {
        "id": "vKqef-4dyusv"
      }
    },
    {
      "cell_type": "markdown",
      "source": [
        "# Conclusion"
      ],
      "metadata": {
        "id": "-PhqKq80zDyO"
      }
    },
    {
      "cell_type": "markdown",
      "source": [],
      "metadata": {
        "id": "KMWJQ_--zF_s"
      }
    }
  ]
}